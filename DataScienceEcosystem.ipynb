{
 "cells": [
  {
   "cell_type": "markdown",
   "id": "377e8da5-814a-4536-b9d6-2d954ed41651",
   "metadata": {},
   "source": [
    "# Data Science Tools and Ecosystem"
   ]
  },
  {
   "cell_type": "markdown",
   "id": "15d639df-3649-42a4-9af0-67f86d7433cc",
   "metadata": {},
   "source": [
    "In this notebook, Data Science Tools and Ecosystem are summarized."
   ]
  },
  {
   "cell_type": "markdown",
   "id": "13ef879d-7a6b-4492-99c9-214f89d370b3",
   "metadata": {},
   "source": [
    "**Objectives:**\n",
    "* List popular languages for Data Science\n",
    "* List commonly used libraries\n",
    "* List data science tools\n",
    "* Make examples of arithmetyc expressions "
   ]
  },
  {
   "cell_type": "markdown",
   "id": "45e179f4-d6c9-4b64-b056-826a52c59315",
   "metadata": {},
   "source": [
    "Some of the popular languages that Data Scientists use are:\n",
    "\n",
    "1. Phyton\n",
    "2. R\n",
    "3. SQL\n",
    "4. SCALA\n",
    "5. C++"
   ]
  },
  {
   "cell_type": "markdown",
   "id": "751153e9-0d05-48fa-81a5-9b5b44882873",
   "metadata": {},
   "source": [
    "Some of the commonly used libraries used by Data Scientists include:\n",
    "\n",
    "1. Pandas\n",
    "2. Numpy\n",
    "3. Matplotlib\n",
    "4. Seaborn\n",
    "5. Scikit-learn\n",
    "5. Keras\n",
    "6. Apache spark\n",
    "7. ggplot2\n"
   ]
  },
  {
   "cell_type": "markdown",
   "id": "79c19ffe-373c-455c-b365-3ffa6f65ad4c",
   "metadata": {},
   "source": [
    "| Data Science Tools |\n",
    "| ------------- |\n",
    "| MySQL     | \n",
    "| GitHub   | \n",
    "| Jupiter |"
   ]
  },
  {
   "cell_type": "markdown",
   "id": "bf8d9fda-5691-48bb-8e1a-1745384d046e",
   "metadata": {},
   "source": [
    "### Below are a few examples of evaluating arithmetic expressions in Python"
   ]
  },
  {
   "cell_type": "markdown",
   "id": "4df8e56d-0b64-4687-a840-eb1f35fa2ac3",
   "metadata": {},
   "source": [
    "*This a simple arithmetic expression to mutiply then add integers*"
   ]
  },
  {
   "cell_type": "code",
   "execution_count": 2,
   "id": "08578daf-de8f-46cb-9371-fcbe67359307",
   "metadata": {},
   "outputs": [
    {
     "data": {
      "text/plain": [
       "17"
      ]
     },
     "execution_count": 2,
     "metadata": {},
     "output_type": "execute_result"
    }
   ],
   "source": [
    "(3*4)+5"
   ]
  },
  {
   "cell_type": "markdown",
   "id": "c4898ee5-5847-4a30-a63e-a50d1b241258",
   "metadata": {},
   "source": [
    "*This will convert 200 minutes to hours by diving by 60*"
   ]
  },
  {
   "cell_type": "code",
   "execution_count": 3,
   "id": "9855b9fb-6421-4646-a5b6-3f6da53555e0",
   "metadata": {},
   "outputs": [
    {
     "data": {
      "text/plain": [
       "3.3333333333333335"
      ]
     },
     "execution_count": 3,
     "metadata": {},
     "output_type": "execute_result"
    }
   ],
   "source": [
    "200/60"
   ]
  },
  {
   "cell_type": "markdown",
   "id": "dc27f2cd-2a0b-428f-a000-e82c0d6e94bd",
   "metadata": {},
   "source": [
    "## Author\n",
    "Maria Soledad Cosentino"
   ]
  },
  {
   "cell_type": "code",
   "execution_count": null,
   "id": "16f97328-cfc4-4787-b92c-b8358b390bac",
   "metadata": {},
   "outputs": [],
   "source": []
  }
 ],
 "metadata": {
  "kernelspec": {
   "display_name": "Python",
   "language": "python",
   "name": "conda-env-python-py"
  },
  "language_info": {
   "codemirror_mode": {
    "name": "ipython",
    "version": 3
   },
   "file_extension": ".py",
   "mimetype": "text/x-python",
   "name": "python",
   "nbconvert_exporter": "python",
   "pygments_lexer": "ipython3",
   "version": "3.7.12"
  }
 },
 "nbformat": 4,
 "nbformat_minor": 5
}
